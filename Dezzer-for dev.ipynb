{
 "cells": [
  {
   "cell_type": "code",
   "execution_count": 2,
   "metadata": {},
   "outputs": [],
   "source": [
    "import pandas as pd\n",
    "import requests\n",
    "import json\n",
    "import time\n"
   ]
  },
  {
   "cell_type": "code",
   "execution_count": 3,
   "metadata": {},
   "outputs": [
    {
     "name": "stdout",
     "output_type": "stream",
     "text": [
      "['Jonas Brothers', 'Cardi B', 'Panic! At The Disco', 'Queen', 'P!nk', 'Chris Brown', 'Maroon 5', 'Elton John', 'Lady Gaga', 'Marshmello']\n"
     ]
    }
   ],
   "source": [
    "artist_names = ['Jonas Brothers', 'Cardi B', 'Panic! At The Disco', 'Queen', 'P!nk', 'Chris Brown','Maroon 5', 'Elton John', 'Lady Gaga', 'Marshmello']\n",
    "\n",
    "print(artist_names)"
   ]
  },
  {
   "cell_type": "code",
   "execution_count": 8,
   "metadata": {},
   "outputs": [],
   "source": [
    "#open dictionary in order to use data frame later.\n",
    "all_artist_dict = {}\n",
    "\n",
    "#define the function that will collect the artist data\n",
    "def songs_of_artist(name):\n",
    "    start_time = time.time() #Check how long it takes your computer to calculate the information for each artist\n",
    "    \n",
    "    name = str(name)\n",
    "    name_low = name.lower() #make all artist-name letters lowercase\n",
    "    \n",
    "    #fix the space in the name\n",
    "    if ' ' in name:\n",
    "        name_new = \"%20\".join(name_low.split())\n",
    "        url = f'http://api.deezer.com/search/artist/?q={name_new}&tracklist&index=0&limit=1&output=json'\n",
    "    else:\n",
    "        url = f'http://api.deezer.com/search/artist/?q={name_low}&tracklist&index=0&limit=1&output=json'\n",
    "\n",
    "    #open a dictionary for every artist\n",
    "    artist_dict = {}\n",
    "    song_list = []\n",
    "    \n",
    "    \n",
    "    #requst the general data of the artist:\n",
    "    artist_data = requests.get(url)\n",
    "    artist_data_json = artist_data.json()\n",
    "    track_list_url = artist_data_json['data'][0]['tracklist'] #requst the songs data of the artist (it is a URL):\n",
    "    \n",
    "    all_songs_loaded = False\n",
    "    while not all_songs_loaded: \n",
    "        track_list_data = requests.get(track_list_url)\n",
    "        track_list_json = track_list_data.json()\n",
    "        for j in range(len(track_list_json['data'])):\n",
    "            song = track_list_json['data'][j]['title']\n",
    "            song_list.append(song)\n",
    "            artist_dict['Song_list'] = song_list\n",
    "\n",
    "        if track_list_json.get('next'):\n",
    "            track_list_url = track_list_json['next']\n",
    "        else:\n",
    "            all_songs_loaded = True\n",
    "            \n",
    "    artist_dict['Number_of_songs'] = len(song_list)\n",
    "            \n",
    "    # add time to artist dictionary\n",
    "    run_time = time.time() - start_time\n",
    "    artist_dict['Process_time'] = run_time\n",
    "\n",
    "    # insert artist_dict into all_artist_dict\n",
    "    all_artist_dict[name] = artist_dict\n",
    "\n",
    "    return f\"Done for {name}\""
   ]
  },
  {
   "cell_type": "code",
   "execution_count": 9,
   "metadata": {
    "scrolled": true
   },
   "outputs": [
    {
     "name": "stdout",
     "output_type": "stream",
     "text": [
      "Done for Jonas Brothers\n",
      "Done for Cardi B\n",
      "Done for Panic! At The Disco\n",
      "Done for Queen\n",
      "Done for P!nk\n",
      "Done for Chris Brown\n",
      "Done for Maroon 5\n",
      "Done for Elton John\n",
      "Done for Lady Gaga\n",
      "Done for Marshmello\n",
      "all done\n",
      "10 artist process took 8.940851211547852\n"
     ]
    }
   ],
   "source": [
    "now = time.time()\n",
    "for i in artist_names:\n",
    "    print(songs_of_artist(i))\n",
    "\n",
    "print('all done')\n",
    "total_time = time.time()-now\n",
    "print(f'{len(artist_names)} artist process took {total_time}')"
   ]
  },
  {
   "cell_type": "code",
   "execution_count": null,
   "metadata": {},
   "outputs": [],
   "source": [
    "#print(all_artist_dict)"
   ]
  },
  {
   "cell_type": "code",
   "execution_count": 10,
   "metadata": {
    "scrolled": true
   },
   "outputs": [
    {
     "data": {
      "text/html": [
       "<div>\n",
       "<style scoped>\n",
       "    .dataframe tbody tr th:only-of-type {\n",
       "        vertical-align: middle;\n",
       "    }\n",
       "\n",
       "    .dataframe tbody tr th {\n",
       "        vertical-align: top;\n",
       "    }\n",
       "\n",
       "    .dataframe thead th {\n",
       "        text-align: right;\n",
       "    }\n",
       "</style>\n",
       "<table border=\"1\" class=\"dataframe\">\n",
       "  <thead>\n",
       "    <tr style=\"text-align: right;\">\n",
       "      <th></th>\n",
       "      <th>Artist</th>\n",
       "      <th>Song_list</th>\n",
       "      <th>Number_of_songs</th>\n",
       "      <th>Process_time</th>\n",
       "    </tr>\n",
       "  </thead>\n",
       "  <tbody>\n",
       "    <tr>\n",
       "      <th>0</th>\n",
       "      <td>Jonas Brothers</td>\n",
       "      <td>[Only Human, Sucker, What A Man Gotta Do, X, L...</td>\n",
       "      <td>73</td>\n",
       "      <td>1.311919</td>\n",
       "    </tr>\n",
       "    <tr>\n",
       "      <th>1</th>\n",
       "      <td>Cardi B</td>\n",
       "      <td>[I Like It, Bodak Yellow, Please Me, Money, Ro...</td>\n",
       "      <td>48</td>\n",
       "      <td>1.418578</td>\n",
       "    </tr>\n",
       "    <tr>\n",
       "      <th>2</th>\n",
       "      <td>Panic! At The Disco</td>\n",
       "      <td>[High Hopes, Death of a Bachelor, Into the Unk...</td>\n",
       "      <td>98</td>\n",
       "      <td>0.884125</td>\n",
       "    </tr>\n",
       "    <tr>\n",
       "      <th>3</th>\n",
       "      <td>Queen</td>\n",
       "      <td>[Don't Stop Me Now, Bohemian Rhapsody, Under P...</td>\n",
       "      <td>100</td>\n",
       "      <td>0.731714</td>\n",
       "    </tr>\n",
       "    <tr>\n",
       "      <th>4</th>\n",
       "      <td>P!nk</td>\n",
       "      <td>[What About Us, Just Give Me a Reason, So What...</td>\n",
       "      <td>89</td>\n",
       "      <td>0.768544</td>\n",
       "    </tr>\n",
       "    <tr>\n",
       "      <th>5</th>\n",
       "      <td>Chris Brown</td>\n",
       "      <td>[Go Crazy, Big Slimes, Say You Love Me, No Gui...</td>\n",
       "      <td>99</td>\n",
       "      <td>0.809367</td>\n",
       "    </tr>\n",
       "    <tr>\n",
       "      <th>6</th>\n",
       "      <td>Maroon 5</td>\n",
       "      <td>[Memories, Sugar, Girls Like You, This Love, P...</td>\n",
       "      <td>98</td>\n",
       "      <td>0.726923</td>\n",
       "    </tr>\n",
       "    <tr>\n",
       "      <th>7</th>\n",
       "      <td>Elton John</td>\n",
       "      <td>[Your Song, Rocket Man (I Think It's Going To ...</td>\n",
       "      <td>99</td>\n",
       "      <td>0.841001</td>\n",
       "    </tr>\n",
       "    <tr>\n",
       "      <th>8</th>\n",
       "      <td>Lady Gaga</td>\n",
       "      <td>[Rain On Me, Shallow, Stupid Love, Always Reme...</td>\n",
       "      <td>100</td>\n",
       "      <td>0.687278</td>\n",
       "    </tr>\n",
       "    <tr>\n",
       "      <th>9</th>\n",
       "      <td>Marshmello</td>\n",
       "      <td>[Be Kind, Happier, FRIENDS, Bayen Habeit, Wolv...</td>\n",
       "      <td>95</td>\n",
       "      <td>0.752466</td>\n",
       "    </tr>\n",
       "  </tbody>\n",
       "</table>\n",
       "</div>"
      ],
      "text/plain": [
       "                Artist                                          Song_list  \\\n",
       "0       Jonas Brothers  [Only Human, Sucker, What A Man Gotta Do, X, L...   \n",
       "1              Cardi B  [I Like It, Bodak Yellow, Please Me, Money, Ro...   \n",
       "2  Panic! At The Disco  [High Hopes, Death of a Bachelor, Into the Unk...   \n",
       "3                Queen  [Don't Stop Me Now, Bohemian Rhapsody, Under P...   \n",
       "4                 P!nk  [What About Us, Just Give Me a Reason, So What...   \n",
       "5          Chris Brown  [Go Crazy, Big Slimes, Say You Love Me, No Gui...   \n",
       "6             Maroon 5  [Memories, Sugar, Girls Like You, This Love, P...   \n",
       "7           Elton John  [Your Song, Rocket Man (I Think It's Going To ...   \n",
       "8            Lady Gaga  [Rain On Me, Shallow, Stupid Love, Always Reme...   \n",
       "9           Marshmello  [Be Kind, Happier, FRIENDS, Bayen Habeit, Wolv...   \n",
       "\n",
       "   Number_of_songs  Process_time  \n",
       "0               73      1.311919  \n",
       "1               48      1.418578  \n",
       "2               98      0.884125  \n",
       "3              100      0.731714  \n",
       "4               89      0.768544  \n",
       "5               99      0.809367  \n",
       "6               98      0.726923  \n",
       "7               99      0.841001  \n",
       "8              100      0.687278  \n",
       "9               95      0.752466  "
      ]
     },
     "execution_count": 10,
     "metadata": {},
     "output_type": "execute_result"
    }
   ],
   "source": [
    "# Create dataframe from dic and make keys, index in dataframe\n",
    "df = pd.DataFrame.from_dict(all_artist_dict, orient='index')\n",
    "df.reset_index(inplace = True)\n",
    "df.rename({'index':'Artist'}, axis=1, inplace=True)\n",
    "df"
   ]
  },
  {
   "cell_type": "code",
   "execution_count": 7,
   "metadata": {},
   "outputs": [
    {
     "name": "stdout",
     "output_type": "stream",
     "text": [
      "0.90 sec\n"
     ]
    }
   ],
   "source": [
    "#the mean data collection rate:\n",
    "mean_time = df['Process_time'].mean()\n",
    "print(f'{mean_time:2.2f} sec')"
   ]
  },
  {
   "cell_type": "code",
   "execution_count": null,
   "metadata": {},
   "outputs": [],
   "source": []
  },
  {
   "cell_type": "code",
   "execution_count": null,
   "metadata": {},
   "outputs": [],
   "source": []
  }
 ],
 "metadata": {
  "kernelspec": {
   "display_name": "Python 3",
   "language": "python",
   "name": "python3"
  },
  "language_info": {
   "codemirror_mode": {
    "name": "ipython",
    "version": 3
   },
   "file_extension": ".py",
   "mimetype": "text/x-python",
   "name": "python",
   "nbconvert_exporter": "python",
   "pygments_lexer": "ipython3",
   "version": "3.7.6"
  }
 },
 "nbformat": 4,
 "nbformat_minor": 4
}
